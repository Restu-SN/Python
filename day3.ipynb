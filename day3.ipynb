{
 "cells": [
  {
   "cell_type": "markdown",
   "id": "024fb792",
   "metadata": {},
   "source": [
    "day 3 "
   ]
  },
  {
   "cell_type": "markdown",
   "id": "11bf895a",
   "metadata": {},
   "source": [
    "LIST"
   ]
  },
  {
   "cell_type": "code",
   "execution_count": null,
   "id": "49ab8f3f",
   "metadata": {},
   "outputs": [
    {
     "name": "stdout",
     "output_type": "stream",
     "text": [
      "nama nama buah ['apel', 'mangga', 'jeruk'] \n",
      "\n",
      "apel\n",
      "nama buah setelah ditambah ['apel', 'mangga', 'jeruk', 'alpukat'] \n",
      "\n",
      " nama buah setelah diurutkan ['alpukat', 'apel', 'jeruk', 'mangga'] \n",
      "\n",
      "nama buah setelah dihapus ['alpukat', 'apel', 'jeruk'] \n",
      "\n",
      "nama buah setelah diubah ['alpukat', 'apel', 'kelengkeng'] \n",
      "\n"
     ]
    }
   ],
   "source": [
    "buah = [\"apel\", \"mangga\", \"jeruk\"]\n",
    "\n",
    "print(f\"nama nama buah {buah} \\n\")\n",
    "print(buah[0])\n",
    "\n",
    "#nambah elemen\n",
    "buah.append(\"alpukat\")\n",
    "print(f\"nama buah setelah ditambah {buah} \\n\")\n",
    "\n",
    "buah.sort()\n",
    "print(f\"nama buah setelah diurutkan {buah} \\n\")\n",
    "\n",
    "#hapus elemen\n",
    "buah.remove(\"mangga\")\n",
    "print(f\"nama buah setelah dihapus {buah} \\n\")\n",
    "\n",
    "#ubah elemen\n",
    "buah[-1] = \"kelengkeng\"\n",
    "print(f\"nama buah setelah diubah {buah} \\n\")"
   ]
  },
  {
   "cell_type": "code",
   "execution_count": 10,
   "id": "f2ca649d",
   "metadata": {},
   "outputs": [
    {
     "name": "stdout",
     "output_type": "stream",
     "text": [
      "[30, 50, 75, 100]\n"
     ]
    }
   ],
   "source": [
    "nilai_siswa =[100, 50, 30, 75]\n",
    "\n",
    "#mengurutkan list\n",
    "nilai_siswa.sort()\n",
    "print(nilai_siswa)"
   ]
  },
  {
   "cell_type": "code",
   "execution_count": null,
   "id": "9f15a1b6",
   "metadata": {},
   "outputs": [
    {
     "name": "stdout",
     "output_type": "stream",
     "text": [
      "nama nama siswa {'budi', 'Erik', 'Etu', 'Alza'} \n",
      "\n",
      "nama nama siswa{'budi', 'Erik', 'Alza', 'Etu', 'ario'} \n",
      "\n",
      "nama setelah dihapus{'Erik', 'Alza', 'ario'} \n",
      "\n",
      "{'Erik', 'Alza'}\n",
      "{'budi', 'Erik', 'Alza', 'linda', 'aris', 'Etu'}\n",
      "{'budi', 'Etu'}\n"
     ]
    }
   ],
   "source": [
    "#set\n",
    "# membuat set\n",
    "nama_siswa = ['Erik', 'Alza', 'Etu', 'budi']\n",
    "nama_siswa_pertama = ['Erik', 'Alza', 'Etu', 'budi']\n",
    "nama_siswa_kedua = ['Erik', 'Alza', 'aris', 'linda']\n",
    "print(f\"nama nama siswa {nama_siswa} \\n\")\n",
    "\n",
    "\n",
    "# menambah data ke set\n",
    "nama_siswa.add(\"ario\")\n",
    "print(f\"nama nama siswa{nama_siswa} \\n\")\n",
    "\n",
    "# menghapus\n",
    "nama_siswa.remove('Etu')\n",
    "nama_siswa.remove('budi')\n",
    "print(f\"nama setelah dihapus{nama_siswa} \\n\")\n",
    "\n",
    "# operasi\n",
    "print(nama_siswa_pertama & nama_siswa_kedua)#irisan\n",
    "print(nama_siswa_pertama | nama_siswa_kedua)#gabungan\n",
    "print(nama_siswa_pertama - nama_siswa_kedua)#selisih\n"
   ]
  },
  {
   "cell_type": "code",
   "execution_count": null,
   "id": "04c10f3b",
   "metadata": {},
   "outputs": [
    {
     "name": "stdout",
     "output_type": "stream",
     "text": [
      "2987\n"
     ]
    }
   ],
   "source": [
    "#dictionary\n",
    "#membuat dictionary\n",
    "kontak = {\n",
    "    'erik': 2987,\n",
    "    'etu': 2123,\n",
    "    'alza': 1234\n",
    "}\n",
    "\n",
    "\n",
    "print(kontak['erik']) \n",
    "\n",
    "\n",
    "# "
   ]
  },
  {
   "cell_type": "code",
   "execution_count": 37,
   "id": "3072a46d",
   "metadata": {},
   "outputs": [
    {
     "name": "stdout",
     "output_type": "stream",
     "text": [
      "uii, kenn\n",
      "uii, etu\n"
     ]
    }
   ],
   "source": [
    "#membuat default function\n",
    "def sapa(nama = \"etu\"):\n",
    "    print(f\"uii, {nama}\")\n",
    "    \n",
    "sapa(\"kenn\")\n",
    "sapa()"
   ]
  },
  {
   "cell_type": "code",
   "execution_count": 44,
   "id": "6eb715b4",
   "metadata": {},
   "outputs": [
    {
     "name": "stdout",
     "output_type": "stream",
     "text": [
      "nama siswa Erik\n",
      "nama siswa Alza\n",
      "nama siswa Etu\n",
      "nama siswa budi\n"
     ]
    }
   ],
   "source": [
    "# Loop for loop\n",
    "nama_siswa = ['Erik', 'Alza', 'Etu', 'budi']\n",
    "\n",
    "for i in nama_siswa:\n",
    "    print(\"nama siswa\",i)\n",
    "    "
   ]
  },
  {
   "cell_type": "code",
   "execution_count": 45,
   "id": "71fbfd66",
   "metadata": {},
   "outputs": [
    {
     "name": "stdout",
     "output_type": "stream",
     "text": [
      "0\n",
      "1\n",
      "2\n",
      "3\n",
      "4\n"
     ]
    }
   ],
   "source": [
    "# while loop\n",
    "\n",
    "angka = 0\n",
    "\n",
    "while angka < 5:\n",
    "    print(angka)\n",
    "    angka += 1\n",
    "    "
   ]
  },
  {
   "cell_type": "code",
   "execution_count": null,
   "id": "d3f51772",
   "metadata": {},
   "outputs": [
    {
     "ename": "NameError",
     "evalue": "name 'renspons' is not defined",
     "output_type": "error",
     "traceback": [
      "\u001b[31m---------------------------------------------------------------------------\u001b[39m",
      "\u001b[31mNameError\u001b[39m                                 Traceback (most recent call last)",
      "\u001b[36mCell\u001b[39m\u001b[36m \u001b[39m\u001b[32mIn[52]\u001b[39m\u001b[32m, line 26\u001b[39m\n\u001b[32m     22\u001b[39m         \u001b[38;5;28;01melse\u001b[39;00m:\n\u001b[32m     23\u001b[39m             \u001b[38;5;28mprint\u001b[39m(\u001b[33m\"\u001b[39m\u001b[33mBot: maaf saya tidak mengerti\u001b[39m\u001b[33m\"\u001b[39m)\n\u001b[32m---> \u001b[39m\u001b[32m26\u001b[39m \u001b[43mchatbot\u001b[49m\u001b[43m(\u001b[49m\u001b[43m)\u001b[49m\n",
      "\u001b[36mCell\u001b[39m\u001b[36m \u001b[39m\u001b[32mIn[52]\u001b[39m\u001b[32m, line 18\u001b[39m, in \u001b[36mchatbot\u001b[39m\u001b[34m()\u001b[39m\n\u001b[32m     16\u001b[39m \u001b[38;5;28;01mwhile\u001b[39;00m \u001b[38;5;28;01mTrue\u001b[39;00m:\n\u001b[32m     17\u001b[39m     user_input = \u001b[38;5;28minput\u001b[39m(\u001b[33m\"\u001b[39m\u001b[33mkamu: \u001b[39m\u001b[33m\"\u001b[39m)\n\u001b[32m---> \u001b[39m\u001b[32m18\u001b[39m     \u001b[38;5;28;01mif\u001b[39;00m user_input \u001b[38;5;129;01min\u001b[39;00m \u001b[43mrenspons\u001b[49m:\n\u001b[32m     19\u001b[39m         \u001b[38;5;28mprint\u001b[39m(\u001b[33m\"\u001b[39m\u001b[33mBot: \u001b[39m\u001b[33m\"\u001b[39m,random,choice(respons[user_input]))\n\u001b[32m     20\u001b[39m     \u001b[38;5;28;01melif\u001b[39;00m user_input == \u001b[33m\"\u001b[39m\u001b[33mkeluar\u001b[39m\u001b[33m\"\u001b[39m:\n",
      "\u001b[31mNameError\u001b[39m: name 'renspons' is not defined"
     ]
    },
    {
     "ename": "",
     "evalue": "",
     "output_type": "error",
     "traceback": [
      "\u001b[1;31mThe Kernel crashed while executing code in the current cell or a previous cell. \n",
      "\u001b[1;31mPlease review the code in the cell(s) to identify a possible cause of the failure. \n",
      "\u001b[1;31mClick <a href='https://aka.ms/vscodeJupyterKernelCrash'>here</a> for more info. \n",
      "\u001b[1;31mView Jupyter <a href='command:jupyter.viewOutput'>log</a> for further details."
     ]
    }
   ],
   "source": [
    "import random\n",
    "# chatbot\n",
    "\n",
    "# Respon dalam dictionary\n",
    "\n",
    "respons = {\n",
    "    \"hai\": [\"Halo\", \"welcome\"],\n",
    "    \"nama kamu siapa?\":[\"saya chatbot\", \"saya kiper\"],\n",
    "    \"bye\": [\"sampai jumppa\", \"bye\"]\n",
    "}\n",
    "# function yg bisa dipanggil\n",
    "\n",
    "def chatbot():\n",
    "    # perulangan\n",
    "    # pengecakan kondisi atau value yang dikiriim user\n",
    "    while True:\n",
    "        user_input = input(\"kamu: \")\n",
    "        if user_input in renspons:\n",
    "            print(\"Bot: \",random,choice(respons[user_input]))\n",
    "        elif user_input == \"keluar\":\n",
    "            print(\"Bot: Sampai jumpa\")\n",
    "        else:\n",
    "            print(\"Bot: maaf saya tidak mengerti\")\n",
    "            \n",
    "            \n",
    "chatbot()"
   ]
  },
  {
   "cell_type": "code",
   "execution_count": 47,
   "id": "6ee4742b",
   "metadata": {},
   "outputs": [
    {
     "data": {
      "text/plain": [
       "['sampai jumppa', 'bye']"
      ]
     },
     "execution_count": 47,
     "metadata": {},
     "output_type": "execute_result"
    }
   ],
   "source": [
    "respons[\"bye\"]"
   ]
  }
 ],
 "metadata": {
  "kernelspec": {
   "display_name": "Python 3",
   "language": "python",
   "name": "python3"
  },
  "language_info": {
   "codemirror_mode": {
    "name": "ipython",
    "version": 3
   },
   "file_extension": ".py",
   "mimetype": "text/x-python",
   "name": "python",
   "nbconvert_exporter": "python",
   "pygments_lexer": "ipython3",
   "version": "3.11.9"
  }
 },
 "nbformat": 4,
 "nbformat_minor": 5
}
