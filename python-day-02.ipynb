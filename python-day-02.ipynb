{
 "cells": [
  {
   "cell_type": "markdown",
   "id": "9b443cf6",
   "metadata": {},
   "source": [
    "## Python Day 02\n",
    "- variabel"
   ]
  },
  {
   "cell_type": "code",
   "execution_count": null,
   "id": "bd591ce2",
   "metadata": {},
   "outputs": [],
   "source": [
    "# variabel\n",
    "siswa = \"Erik\"\n",
    "umur = 21\n",
    "tinggi = 170.3\n"
   ]
  },
  {
   "cell_type": "code",
   "execution_count": null,
   "id": "ad3751cb",
   "metadata": {},
   "outputs": [],
   "source": [
    "# case sensitive\n",
    "siswa = 'erirk'\n",
    "siswa_pertama = 'resut'\n",
    "SiswaPertama = \"alzha\""
   ]
  },
  {
   "cell_type": "markdown",
   "id": "fc7b86f7",
   "metadata": {},
   "source": [
    "- Tipe data"
   ]
  },
  {
   "cell_type": "code",
   "execution_count": null,
   "id": "b27f11ab",
   "metadata": {},
   "outputs": [
    {
     "name": "stdout",
     "output_type": "stream",
     "text": [
      "<class 'str'>\n",
      "<class 'int'>\n",
      "<class 'float'>\n",
      "<class 'bool'>\n",
      "<class 'list'>\n",
      "<class 'dict'>\n",
      "<class 'set'>\n"
     ]
    }
   ],
   "source": [
    "# tipe data\n",
    "nama = \"Restu\" #string adalah berupa teks\n",
    "umur = 20 #int adalah bilangan bulat (1, 2, 3, dst)\n",
    "tinggi = 169.5 #float/double adalah bilangan desimal\n",
    "laki_laki = True # Bool (true or false)\n",
    "hobi = [\"Sepak Bola\", \"Badminton\"] #tipe data list/daftar\n",
    "daftar_umur_siswa = [18, 20, 21]\n",
    "sekolah = (\"SD\", \"SMP\", \"SMA\", \"Kuliah\") #tipe data tuple\n",
    "kontak_telpon = {\n",
    "    \"alza\": 8123455,\n",
    "    \"erik\": 8235334,\n",
    "} # key : value (dictionary)\n",
    "kelereng = {\"Merah\", \"Biru\", \"Kuning\"}\n",
    "\n",
    "\n",
    "print(type(nama))\n",
    "print(type(umur))\n",
    "print(type(tinggi))\n",
    "print(type(laki_laki))\n",
    "print(type(hobi))\n",
    "print(type(kontak_telpon))\n",
    "print(type(kelereng))"
   ]
  },
  {
   "cell_type": "markdown",
   "id": "bdbe03e0",
   "metadata": {},
   "source": [
    "- String"
   ]
  },
  {
   "cell_type": "code",
   "execution_count": null,
   "id": "00eac76a",
   "metadata": {},
   "outputs": [
    {
     "name": "stdout",
     "output_type": "stream",
     "text": [
      "alif al zahran\n",
      "alif\n"
     ]
    }
   ],
   "source": [
    "# string\n",
    "nama = 'alif al zahran'\n",
    "print(nama)\n",
    "# slicing\n",
    "print(nama[0:4]) # variabel[start:stop]"
   ]
  },
  {
   "cell_type": "markdown",
   "id": "4a898a88",
   "metadata": {},
   "source": [
    "- string formating\n",
    "  "
   ]
  },
  {
   "cell_type": "code",
   "execution_count": 35,
   "id": "39e37b9f",
   "metadata": {},
   "outputs": [
    {
     "name": "stdout",
     "output_type": "stream",
     "text": [
      "Nama Siswa adalah Erik dan usia 21 \n",
      "Nama siswa adalah Erik dan usia 21\n"
     ]
    }
   ],
   "source": [
    "nama = 'Erik'\n",
    "usia = 21\n",
    "\n",
    "print(\"Nama Siswa adalah {} dan usia {} \".format(nama, usia))\n",
    "print(f\"Nama siswa adalah {nama} dan usia {usia}\")"
   ]
  },
  {
   "cell_type": "markdown",
   "id": "ae6e6826",
   "metadata": {},
   "source": [
    "- ASCII"
   ]
  },
  {
   "cell_type": "code",
   "execution_count": 36,
   "id": "a54a159a",
   "metadata": {},
   "outputs": [
    {
     "name": "stdout",
     "output_type": "stream",
     "text": [
      "Kode ASCII dari A adalah 65\n"
     ]
    }
   ],
   "source": [
    "# mengubah huruf ke kode ascii\n",
    "\n",
    "huruf = \"A\"\n",
    "kode = ord(huruf)\n",
    "print(f\"Kode ASCII dari {huruf} adalah {kode}\")"
   ]
  },
  {
   "cell_type": "code",
   "execution_count": 37,
   "id": "e26218a3",
   "metadata": {},
   "outputs": [
    {
     "name": "stdout",
     "output_type": "stream",
     "text": [
      "Kode 66 adalah huruf B\n"
     ]
    }
   ],
   "source": [
    "# mengubah angka ke huruf\n",
    "kode = 66\n",
    "huruf_dari_kode = chr(kode)\n",
    "print(f\"Kode {kode} adalah huruf {huruf_dari_kode}\")"
   ]
  },
  {
   "cell_type": "markdown",
   "id": "613e8311",
   "metadata": {},
   "source": [
    "-  Biner dan hexadecimal"
   ]
  },
  {
   "cell_type": "code",
   "execution_count": 39,
   "id": "04ff49c4",
   "metadata": {},
   "outputs": [
    {
     "name": "stdout",
     "output_type": "stream",
     "text": [
      "angka 10 dalam biner adalah 0b1010\n",
      "angka 10 dalam biner adalah 0xa\n"
     ]
    }
   ],
   "source": [
    "# biner\n",
    "angka = 10\n",
    "biner = bin(angka)\n",
    "print(f\"angka {angka} dalam biner adalah {biner}\")\n",
    "\n",
    "# biner\n",
    "angka = 10\n",
    "hexa = hex(angka)\n",
    "print(f\"angka {angka} dalam biner adalah {hexa}\")"
   ]
  },
  {
   "cell_type": "markdown",
   "id": "d9be880c",
   "metadata": {},
   "source": [
    "- operator aritmetika"
   ]
  },
  {
   "cell_type": "code",
   "execution_count": null,
   "id": "01b68459",
   "metadata": {},
   "outputs": [],
   "source": []
  },
  {
   "cell_type": "code",
   "execution_count": null,
   "id": "eab74d84",
   "metadata": {},
   "outputs": [
    {
     "name": "stdout",
     "output_type": "stream",
     "text": [
      "12\n",
      "8\n",
      "5.0\n",
      "20\n",
      "0\n",
      "100\n"
     ]
    }
   ],
   "source": [
    "# operator\n",
    "angka_pertama = 10\n",
    "angka_kedua = 2\n",
    "\n",
    "\n",
    "print(angka_pertama + angka_kedua) # operator tambah\n",
    "print(angka_pertama - angka_kedua) # operator kurang\n",
    "print(angka_pertama / angka_kedua) # operator bagi\n",
    "print(angka_pertama * angka_kedua) # operator kali\n",
    "print(angka_pertama % angka_kedua) # operator tambah\n",
    "print(angka_pertama ** angka_kedua) # operator tambah"
   ]
  },
  {
   "cell_type": "markdown",
   "id": "93c2d83f",
   "metadata": {},
   "source": [
    "- operator perbandingan"
   ]
  },
  {
   "cell_type": "code",
   "execution_count": 58,
   "id": "130051b4",
   "metadata": {},
   "outputs": [
    {
     "name": "stdout",
     "output_type": "stream",
     "text": [
      "True\n",
      "False\n",
      "True\n"
     ]
    }
   ],
   "source": [
    "# operator comparison\n",
    "umur_erik = 21\n",
    "umur_alzah = 18\n",
    "\n",
    "print(umur_erik > umur_alzah)\n",
    "print(umur_erik < umur_alzah)\n",
    "print(umur_erik != umur_alzah)\n"
   ]
  },
  {
   "cell_type": "markdown",
   "id": "3b691672",
   "metadata": {},
   "source": [
    "- control flow"
   ]
  },
  {
   "cell_type": "code",
   "execution_count": 63,
   "id": "4cf0929f",
   "metadata": {},
   "outputs": [
    {
     "name": "stdout",
     "output_type": "stream",
     "text": [
      "Erik lebih tua\n"
     ]
    }
   ],
   "source": [
    "# if, else, elif, for, while\n",
    "umur_erik = 21\n",
    "umur_alzah = 18\n",
    "\n",
    "if umur_erik > umur_alzah:\n",
    "    print(\"Erik lebih tua\")\n",
    "else:\n",
    "    print(\"Alza lebih muda\")"
   ]
  },
  {
   "cell_type": "code",
   "execution_count": 65,
   "id": "1a1ba052",
   "metadata": {},
   "outputs": [
    {
     "name": "stdout",
     "output_type": "stream",
     "text": [
      "D\n"
     ]
    }
   ],
   "source": [
    "# elif\n",
    "nilai = 55\n",
    "\n",
    "if nilai >= 90:\n",
    "    print(\"A\")\n",
    "elif nilai < 90 and nilai >= 80:\n",
    "    print(\"B\")\n",
    "elif nilai < 80 and nilai >= 70:\n",
    "    print(\"C\")\n",
    "else:\n",
    "    print(\"D\")"
   ]
  },
  {
   "cell_type": "code",
   "execution_count": 75,
   "id": "f88b86c9",
   "metadata": {},
   "outputs": [
    {
     "name": "stdout",
     "output_type": "stream",
     "text": [
      "Hello Erik 0\n",
      "Hello Erik 1\n",
      "Hello Erik 2\n",
      "Hello Erik 3\n",
      "Hello Erik 4\n",
      "Hello Erik 5\n",
      "Hello Erik 6\n",
      "Hello Erik 7\n",
      "Hello Erik 8\n",
      "Hello Erik 9\n",
      "Hello Erik 10\n"
     ]
    }
   ],
   "source": [
    "# perulangan for\n",
    "for i in range(11):\n",
    "    print(f\"Hello Erik {i}\")"
   ]
  },
  {
   "cell_type": "code",
   "execution_count": 76,
   "id": "1aab038b",
   "metadata": {},
   "outputs": [
    {
     "name": "stdout",
     "output_type": "stream",
     "text": [
      "Energi tersisa: 10, ayo lari\n",
      "Energi tersisa: 9, ayo lari\n",
      "Energi tersisa: 8, ayo lari\n",
      "Energi tersisa: 7, ayo lari\n",
      "Energi tersisa: 6, ayo lari\n",
      "Energi tersisa: 5, ayo lari\n",
      "Energi tersisa: 4, ayo lari\n",
      "Energi tersisa: 3, ayo lari\n",
      "Energi tersisa: 2, ayo lari\n",
      "Energi tersisa: 1, ayo lari\n"
     ]
    }
   ],
   "source": [
    "# while\n",
    "i = 10\n",
    "\n",
    "while i > 0:\n",
    "    print(f\"Energi tersisa: {i}, ayo lari\")\n",
    "    # energi = energi - 1\n",
    "    i -= 1"
   ]
  },
  {
   "cell_type": "code",
   "execution_count": 78,
   "id": "1361c856",
   "metadata": {},
   "outputs": [
    {
     "name": "stdout",
     "output_type": "stream",
     "text": [
      "Energi bertamabah 0\n",
      "Energi bertamabah 1\n",
      "Energi bertamabah 2\n",
      "Energi bertamabah 3\n",
      "Energi bertamabah 4\n",
      "Energi bertamabah 5\n",
      "Energi bertamabah 6\n",
      "Energi bertamabah 7\n",
      "Energi bertamabah 8\n",
      "Energi bertamabah 9\n",
      "Energi bertamabah 10\n"
     ]
    }
   ],
   "source": [
    "# while\n",
    "energi = 0\n",
    "\n",
    "while energi <= 10:\n",
    "    print(f\"Energi bertamabah {energi}\")\n",
    "    energi = energi + 1"
   ]
  }
 ],
 "metadata": {
  "kernelspec": {
   "display_name": "Python 3",
   "language": "python",
   "name": "python3"
  },
  "language_info": {
   "codemirror_mode": {
    "name": "ipython",
    "version": 3
   },
   "file_extension": ".py",
   "mimetype": "text/x-python",
   "name": "python",
   "nbconvert_exporter": "python",
   "pygments_lexer": "ipython3",
   "version": "3.11.3"
  }
 },
 "nbformat": 4,
 "nbformat_minor": 5
}
