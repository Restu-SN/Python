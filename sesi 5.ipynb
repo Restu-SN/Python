{
 "cells": [
  {
   "cell_type": "markdown",
   "id": "83e797df",
   "metadata": {},
   "source": [
    "### Bubble Sort\n",
    "\n",
    "## Cara Kerja\n",
    "\n",
    "1. bandingkan dua elemen berselebahan\n",
    "2. jika elemen pertama lebih besar, tukar posisinya\n",
    "3. ulangi proses hingga elemen terakhir\n",
    "4. proses di ulang beberapa kali, hingga tidak ada yang perlu ditukar lagi"
   ]
  },
  {
   "cell_type": "code",
   "execution_count": 5,
   "id": "7818122a",
   "metadata": {},
   "outputs": [
    {
     "name": "stdout",
     "output_type": "stream",
     "text": [
      "sebelum sorting:  [5, 3, 8, 4, 2]\n",
      "setelah sorting:  [2, 3, 4, 5, 8]\n"
     ]
    }
   ],
   "source": [
    "def bubble_sort(arr):\n",
    "    # mulai\n",
    "    n = len(arr)\n",
    "    for i in range(n - 1):\n",
    "        # elemen terbesar akan 'bubble' ke akhir array\n",
    "        for j in range(0, n - 1 - i):  # pakai j, dan batas loop dikurangi i\n",
    "            if arr[j] > arr[j + 1]:\n",
    "                arr[j], arr[j + 1] = arr[j + 1], arr[j]\n",
    "    \n",
    "    return arr\n",
    "\n",
    "# Contoh penggunaan\n",
    "list_angka = [5, 3, 8, 4, 2]\n",
    "\n",
    "print(\"sebelum sorting: \", list_angka)\n",
    "print(\"setelah sorting: \", bubble_sort(list_angka))"
   ]
  },
  {
   "cell_type": "markdown",
   "id": "97231f39",
   "metadata": {},
   "source": [
    "### Selection Sort\n",
    "#### Cara kerja\n",
    "\n",
    "1. cari elemen terkecil di array/list\n",
    "2. tukar elemen tersebut dengan elemen posisi awal\n",
    "3. ulangi untuk sisa array"
   ]
  },
  {
   "cell_type": "code",
   "execution_count": 14,
   "id": "455bccf9",
   "metadata": {},
   "outputs": [
    {
     "name": "stdout",
     "output_type": "stream",
     "text": [
      "sebelum sorting:  [5, 3, 8, 4, 2]\n",
      "setelah sorting:  [2, 3, 8, 4, 5]\n"
     ]
    }
   ],
   "source": [
    "def selection_sort(arr):\n",
    "    # mulai\n",
    "    n = len(arr)\n",
    "    for i in range(n-1):\n",
    "        # menganggap elemen pertama sebagai yang terkecil\n",
    "        min_idx = i\n",
    "        for j in range(i + 1, n):\n",
    "            if arr[j] < arr[min_idx]:\n",
    "                min_idx = j\n",
    "        # tukar e;emen terkecil dengan elemen [ertama yang belum terurut\n",
    "        arr[i], arr[min_idx] = arr[min_idx], arr[i]\n",
    "        \n",
    "        return arr\n",
    "    \n",
    "list_angka = [5, 3, 8, 4, 2]\n",
    "\n",
    "print(\"sebelum sorting: \", list_angka)\n",
    "print(\"setelah sorting: \", selection_sort(list_angka))"
   ]
  },
  {
   "cell_type": "code",
   "execution_count": 17,
   "id": "fa7416c1",
   "metadata": {},
   "outputs": [
    {
     "name": "stdout",
     "output_type": "stream",
     "text": [
      "Selamat datang di game: Tebak angka tertinggi\n",
      "\n",
      "Mengurutkan angka...\n",
      "\n",
      "Angka yang sudah terurut:\n",
      "[2]\n",
      "Angka terbesar adalah: 2\n",
      "Terima kasih telah bermain!\n"
     ]
    }
   ],
   "source": [
    "def bubble_sort(arr):\n",
    "    # mulai\n",
    "    n = len(arr)\n",
    "    for i in range(n - 1):\n",
    "        # elemen terbesar akan 'bubble' ke akhir array\n",
    "        for j in range(0, n - 1 - i):\n",
    "            if arr[j] > arr[j + 1]:\n",
    "                arr[j], arr[j + 1] = arr[j + 1], arr[j]\n",
    "    return arr\n",
    "\n",
    "def main():\n",
    "    print(\"Selamat datang di game: Tebak angka tertinggi\")\n",
    "\n",
    "    try:\n",
    "        jumlah = int(input(\"Berapa banyak angka yang ingin kamu masukan?: \"))\n",
    "        angka_list = []\n",
    "\n",
    "        for i in range(jumlah):\n",
    "            angka = int(input(f\"Masukkan angka ke-{i+1}: \"))\n",
    "            angka_list.append(angka)\n",
    "\n",
    "        print(\"\\nMengurutkan angka...\")\n",
    "        terurut = bubble_sort(angka_list)\n",
    "\n",
    "        print(\"\\nAngka yang sudah terurut:\")\n",
    "        print(terurut)\n",
    "\n",
    "        print(f\"Angka terbesar adalah: {terurut[-1]}\")\n",
    "        print(\"Terima kasih telah bermain!\")\n",
    "\n",
    "    except ValueError:\n",
    "        print(\"Input tidak valid! Harap masukkan angka saja.\")\n",
    "\n",
    "main()\n"
   ]
  }
 ],
 "metadata": {
  "kernelspec": {
   "display_name": "Python 3",
   "language": "python",
   "name": "python3"
  },
  "language_info": {
   "codemirror_mode": {
    "name": "ipython",
    "version": 3
   },
   "file_extension": ".py",
   "mimetype": "text/x-python",
   "name": "python",
   "nbconvert_exporter": "python",
   "pygments_lexer": "ipython3",
   "version": "3.11.9"
  }
 },
 "nbformat": 4,
 "nbformat_minor": 5
}
