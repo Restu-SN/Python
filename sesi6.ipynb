{
 "cells": [
  {
   "cell_type": "markdown",
   "id": "439dd4c2",
   "metadata": {},
   "source": [
    "## OOP"
   ]
  },
  {
   "cell_type": "code",
   "execution_count": 3,
   "id": "8d0f8aec",
   "metadata": {},
   "outputs": [
    {
     "name": "stdout",
     "output_type": "stream",
     "text": [
      "Produk: Laptop, Harga: Rp150000\n",
      "Produk: Hp, Harga: Rp100000\n"
     ]
    }
   ],
   "source": [
    "class Produk:\n",
    "    # inisialisasi konstruktor untuk menetapkan atribut nama dan harga\n",
    "    def __init__(self, nama, harga):\n",
    "        self.nama = nama  # atribut nama produk\n",
    "        self.harga = harga  # atribut harga produk\n",
    "\n",
    "    # method tampilkan info\n",
    "    def tampilkan_info(self):\n",
    "        print(f\"Produk: {self.nama}, Harga: Rp{self.harga}\")\n",
    "\n",
    "# Membuat objek dari class Produk\n",
    "produk1 = Produk(\"Laptop\", 150000)\n",
    "produk2 = Produk(\"Hp\", 100000)\n",
    "\n",
    "produk1.tampilkan_info()\n",
    "produk2.tampilkan_info()\n"
   ]
  },
  {
   "cell_type": "code",
   "execution_count": null,
   "id": "40026a9f",
   "metadata": {},
   "outputs": [
    {
     "data": {
      "text/plain": [
       "'Benze'"
      ]
     },
     "execution_count": 17,
     "metadata": {},
     "output_type": "execute_result"
    },
    {
     "ename": "",
     "evalue": "",
     "output_type": "error",
     "traceback": [
      "\u001b[1;31mThe Kernel crashed while executing code in the current cell or a previous cell. \n",
      "\u001b[1;31mPlease review the code in the cell(s) to identify a possible cause of the failure. \n",
      "\u001b[1;31mClick <a href='https://aka.ms/vscodeJupyterKernelCrash'>here</a> for more info. \n",
      "\u001b[1;31mView Jupyter <a href='command:jupyter.viewOutput'>log</a> for further details."
     ]
    }
   ],
   "source": [
    "class Kendaraan:\n",
    "    \n",
    "    def __init__(self, brand, model):\n",
    "        self.brand = brand\n",
    "        self._model = model # atribut model \"protected\" (dilingdungi diawali dengan ' _ ')\n",
    "    \n",
    "    # getter untuk model (enkapsulasi)\n",
    "    def get_model(self):\n",
    "        return self._model\n",
    "        \n",
    "    # setter untuk model\n",
    "    def set_model(self, model):\n",
    "        self._model = model\n",
    "    \n",
    "    # method display\n",
    "    def display(self):\n",
    "        print(f\" nama {self.brand} model {self._model}\")\n",
    "    \n",
    "    # method jalan di kelas kendaraan\n",
    "    def jalan(self):\n",
    "        print(\"mengemudi kendaraan...\")\n",
    "        \n",
    "# inheritance \n",
    "class Mobil(Kendaraan):\n",
    "    def __init__(self, brand, model, pintu):\n",
    "        super().__init__(brand, model)\n",
    "        self.pintu = pintu\n",
    "        \n",
    "    # polimorfism\n",
    "    def display(self):\n",
    "        print(f\" nama {self.brand} model {self._model} dengan {self.pintu} pintu\")\n",
    "        \n",
    "    \n",
    "mbl1 = mobil(\"merci\", \"Benz\", 2)\n",
    "mbl1.display()"
   ]
  }
 ],
 "metadata": {
  "kernelspec": {
   "display_name": "Python 3",
   "language": "python",
   "name": "python3"
  },
  "language_info": {
   "codemirror_mode": {
    "name": "ipython",
    "version": 3
   },
   "file_extension": ".py",
   "mimetype": "text/x-python",
   "name": "python",
   "nbconvert_exporter": "python",
   "pygments_lexer": "ipython3",
   "version": "3.11.9"
  }
 },
 "nbformat": 4,
 "nbformat_minor": 5
}
